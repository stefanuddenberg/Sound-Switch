{
 "cells": [
  {
   "cell_type": "code",
   "execution_count": 4,
   "metadata": {},
   "outputs": [],
   "source": [
    "from pydub import AudioSegment\n",
    "from pydub.playback import play\n",
    "import copy\n",
    "import random\n",
    "import numpy as np"
   ]
  },
  {
   "cell_type": "code",
   "execution_count": 45,
   "metadata": {},
   "outputs": [],
   "source": [
    "switch_probabilities = np.linspace(0, 1, num=11)\n",
    "chunk_size = 100 # in ms\n",
    "\n",
    "song = AudioSegment.from_wav(\"./stimuli/test.wav\")\n",
    "\n",
    "for switch_probability in switch_probabilities:\n",
    "    this_song = AudioSegment.empty()\n",
    "    sound_on = bool(round(random.random()))\n",
    "    for chunk_start in range(0, len(song)-1, chunk_size):\n",
    "        this_probability = random.random()\n",
    "\n",
    "        if this_probability < switch_probability:\n",
    "            sound_on = not sound_on\n",
    "\n",
    "        this_segment = song[chunk_start:chunk_start + chunk_size]\n",
    "        if not sound_on: this_segment = AudioSegment.silent(duration=chunk_size)\n",
    "\n",
    "        this_song += this_segment\n",
    "    \n",
    "    this_song.export(f\"./stimuli/{str(switch_probability)}_chunk-{str(chunk_size)}.mp3\", format=\"mp3\", bitrate=\"192k\")"
   ]
  },
  {
   "cell_type": "code",
   "execution_count": 40,
   "metadata": {},
   "outputs": [
    {
     "data": {
      "text/plain": [
       "<_io.BufferedRandom name='./stimuli/totally_random.mp3'>"
      ]
     },
     "execution_count": 40,
     "metadata": {},
     "output_type": "execute_result"
    }
   ],
   "source": [
    "final_song.export(\"./stimuli/totally_random.mp3\", format=\"mp3\", bitrate=\"192k\")"
   ]
  },
  {
   "cell_type": "code",
   "execution_count": 46,
   "metadata": {},
   "outputs": [
    {
     "data": {
      "text/plain": [
       "<_io.BufferedRandom name='./stimuli/orig.mp3'>"
      ]
     },
     "execution_count": 46,
     "metadata": {},
     "output_type": "execute_result"
    }
   ],
   "source": [
    "song.export(\"./stimuli/orig.mp3\", format=\"mp3\", bitrate=\"192k\")"
   ]
  }
 ],
 "metadata": {
  "kernelspec": {
   "display_name": "Python 3",
   "language": "python",
   "name": "python3"
  },
  "language_info": {
   "codemirror_mode": {
    "name": "ipython",
    "version": 3
   },
   "file_extension": ".py",
   "mimetype": "text/x-python",
   "name": "python",
   "nbconvert_exporter": "python",
   "pygments_lexer": "ipython3",
   "version": "3.6.3"
  }
 },
 "nbformat": 4,
 "nbformat_minor": 2
}
