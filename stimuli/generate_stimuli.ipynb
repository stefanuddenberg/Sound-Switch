{
 "cells": [
  {
   "cell_type": "markdown",
   "metadata": {},
   "source": [
    "# Generate stimuli for Sound-Switch Experiment 1 <a class=\"tocSkip\">\n",
    "C and G guitar chords generated [here](https://www.apronus.com/music/onlineguitar.htm) and subsequently recorded and amplified (25.98 db and 25.065 db respectively) using Audacity version 2.3.0 (using Effect --> Amplify) via Windows 10's Stereo Mix drivers."
   ]
  },
  {
   "cell_type": "markdown",
   "metadata": {},
   "source": [
    "# Imports"
   ]
  },
  {
   "cell_type": "code",
   "execution_count": 8,
   "metadata": {},
   "outputs": [],
   "source": [
    "from pydub import AudioSegment\n",
    "from pydub.generators import Sine\n",
    "from pydub.playback import play\n",
    "import random\n",
    "import numpy as np\n",
    "import os"
   ]
  },
  {
   "cell_type": "markdown",
   "metadata": {},
   "source": [
    "# Functions"
   ]
  },
  {
   "cell_type": "code",
   "execution_count": 10,
   "metadata": {},
   "outputs": [],
   "source": [
    "def generate_songs(path_prefix):\n",
    "    for switch_probability in switch_probabilities:\n",
    "        for exemplar in range(num_exemplars):\n",
    "            # Begin with silence\n",
    "            this_song = silence\n",
    "            # Choose random tone to start with\n",
    "            which_tone = round(random.random())\n",
    "            for chunk in range(num_chunks):\n",
    "                this_probability = random.random()\n",
    "\n",
    "                # Change tones if necessary\n",
    "                if this_probability < switch_probability:\n",
    "                    which_tone = 1 - which_tone\n",
    "\n",
    "                this_segment = songs[which_tone][:chunk_size]\n",
    "\n",
    "                # Add intervening silence\n",
    "                this_song = this_song.append(silence, crossfade=crossfade_duration)\n",
    "                # Add tone\n",
    "                this_song = this_song.append(this_segment, crossfade=crossfade_duration)\n",
    "\n",
    "            # Add final silence\n",
    "            this_song.append(silence, crossfade=crossfade_duration)\n",
    "            song_name = f\"{path_prefix}switch-{str(round(switch_probability,2))}_chunk-{str(chunk_size)}_C_G_alternating_{str(exemplar).zfill(2)}.mp3\"\n",
    "            this_song.export(song_name, format=\"mp3\", bitrate=\"192k\")"
   ]
  },
  {
   "cell_type": "markdown",
   "metadata": {},
   "source": [
    "# Stimulus Generation"
   ]
  },
  {
   "cell_type": "markdown",
   "metadata": {},
   "source": [
    "## Guitar chords"
   ]
  },
  {
   "cell_type": "code",
   "execution_count": 6,
   "metadata": {},
   "outputs": [],
   "source": [
    "songs = [\n",
    "    AudioSegment.from_mp3(\"guitar_chords/guitar_C.mp3\"),\n",
    "    AudioSegment.from_mp3(\"guitar_chords/guitar_G.mp3\"),\n",
    "]\n",
    "\n",
    "chunk_size = 500 # in ms\n",
    "num_chunks = 20\n",
    "crossfade_duration = 50 # in ms\n",
    "silence_duration = 100 # in ms\n",
    "switch_probabilities = np.linspace(0.1, 0.9, num=9)\n",
    "num_exemplars = 10\n",
    "silence = AudioSegment.silent(duration=silence_duration)\n",
    "# Generate the songs\n",
    "generate_songs(path_prefix=\"guitar_chords/\")"
   ]
  },
  {
   "cell_type": "markdown",
   "metadata": {},
   "source": [
    "## Tones"
   ]
  },
  {
   "cell_type": "code",
   "execution_count": 12,
   "metadata": {},
   "outputs": [],
   "source": [
    "# Create sine waves of given freqs\n",
    "frequencies = [261.626, 391.995] # C4, G4\n",
    "sample_rate = 44100  # sample rate\n",
    "bit_depth = 16     # bit depth\n",
    "\n",
    "# Same params as above for guitar\n",
    "chunk_size = 500 # in ms\n",
    "num_chunks = 20\n",
    "crossfade_duration = 50 # in ms\n",
    "silence_duration = 100 # in ms\n",
    "switch_probabilities = np.linspace(0.1, 0.9, num=9)\n",
    "num_exemplars = 10\n",
    "silence = AudioSegment.silent(duration=silence_duration)\n",
    "\n",
    "sine_waves = []\n",
    "songs = []\n",
    "for i, frequency in enumerate(frequencies):\n",
    "    sine_waves.append(Sine(frequency, sample_rate=sample_rate, bit_depth=bit_depth))\n",
    "    #Convert waveform to audio_segment for playback and export\n",
    "    songs.append(sine_waves[i].to_audio_segment(duration=chunk_size*2)) # just to make sure it's long enough\n",
    "\n",
    "generate_songs(path_prefix=\"pure_tones/\")"
   ]
  },
  {
   "cell_type": "markdown",
   "metadata": {},
   "source": [
    "# Practice Stimulus\n",
    "Just choose one of the above stimuli to be a practice stimulus, and remake the stimuli so that it doesn't get repeated."
   ]
  }
 ],
 "metadata": {
  "jupytext": {
   "metadata_filter": {
    "cells": {
     "additional": "all"
    },
    "notebook": {
     "additional": "all"
    }
   }
  },
  "kernelspec": {
   "display_name": "Python 3",
   "language": "python",
   "name": "python3"
  },
  "language_info": {
   "codemirror_mode": {
    "name": "ipython",
    "version": 3
   },
   "file_extension": ".py",
   "mimetype": "text/x-python",
   "name": "python",
   "nbconvert_exporter": "python",
   "pygments_lexer": "ipython3",
   "version": "3.6.7"
  }
 },
 "nbformat": 4,
 "nbformat_minor": 2
}
