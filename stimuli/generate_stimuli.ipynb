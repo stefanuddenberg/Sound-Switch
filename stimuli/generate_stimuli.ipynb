{
 "cells": [
  {
   "cell_type": "markdown",
   "metadata": {},
   "source": [
    "# Generate stimuli for Sound-Switch Experiment 1 <a class=\"tocSkip\">\n",
    "C and G guitar chords generated [here](https://www.apronus.com/music/onlineguitar.htm) and subsequently recorded and amplified (25.98 db and 25.065 db respectively) using Audacity version 2.3.0 (using Effect --> Amplify) via Windows 10's Stereo Mix drivers."
   ]
  },
  {
   "cell_type": "markdown",
   "metadata": {},
   "source": [
    "# Imports"
   ]
  },
  {
   "cell_type": "code",
   "execution_count": 1,
   "metadata": {},
   "outputs": [],
   "source": [
    "from pydub import AudioSegment\n",
    "from pydub.playback import play\n",
    "import random\n",
    "import numpy as np\n",
    "import os"
   ]
  },
  {
   "cell_type": "markdown",
   "metadata": {},
   "source": [
    "# Stimulus Generation"
   ]
  },
  {
   "cell_type": "code",
   "execution_count": 16,
   "metadata": {},
   "outputs": [],
   "source": [
    "songs = [\n",
    "    AudioSegment.from_mp3(\"guitar_chords/guitar_C.mp3\"),\n",
    "    AudioSegment.from_mp3(\"guitar_chords/guitar_G.mp3\"),\n",
    "]\n",
    "\n",
    "chunk_size = 500 # in ms\n",
    "num_chunks = 20\n",
    "crossfade_duration = 50 # in ms\n",
    "song_duration = (chunk_size * num_chunks) - (crossfade_duration * num_chunks)\n",
    "switch_probabilities = np.linspace(0.1, 0.9, num=9)\n",
    "num_exemplars = 10\n",
    "silence = AudioSegment.silent(duration=crossfade_duration)\n",
    "# Generate the songs\n",
    "for switch_probability in switch_probabilities:\n",
    "    for exemplar in range(num_exemplars):\n",
    "        this_song = silence\n",
    "        which_tone = round(random.random())\n",
    "        for chunk in range(num_chunks):\n",
    "            this_probability = random.random()\n",
    "\n",
    "            if this_probability < switch_probability:\n",
    "                which_tone = 1 - which_tone\n",
    "\n",
    "            this_segment = songs[which_tone][:chunk_size]\n",
    "            this_song = this_song.append(this_segment, crossfade=crossfade_duration)\n",
    "            \n",
    "        this_song.append(silence, crossfade=crossfade_duration)\n",
    "        song_name = f\"guitar_chords/switch-{str(round(switch_probability,2))}_chunk-{str(chunk_size)}_C_G_alternating_{str(exemplar).zfill(2)}.mp3\"\n",
    "        this_song.export(song_name, format=\"mp3\", bitrate=\"192k\")"
   ]
  }
 ],
 "metadata": {
  "kernelspec": {
   "display_name": "Python 3",
   "language": "python",
   "name": "python3"
  },
  "language_info": {
   "codemirror_mode": {
    "name": "ipython",
    "version": 3
   },
   "file_extension": ".py",
   "mimetype": "text/x-python",
   "name": "python",
   "nbconvert_exporter": "python",
   "pygments_lexer": "ipython3",
   "version": "3.6.2"
  }
 },
 "nbformat": 4,
 "nbformat_minor": 2
}
