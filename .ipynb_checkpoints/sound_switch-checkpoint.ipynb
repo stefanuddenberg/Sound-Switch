{
 "cells": [
  {
   "cell_type": "markdown",
   "metadata": {},
   "source": [
    "## Imports"
   ]
  },
  {
   "cell_type": "code",
   "execution_count": 1,
   "metadata": {},
   "outputs": [],
   "source": [
    "from pydub import AudioSegment\n",
    "from pydub.playback import play\n",
    "import copy\n",
    "import random\n",
    "import numpy as np\n",
    "import os"
   ]
  },
  {
   "cell_type": "markdown",
   "metadata": {},
   "source": [
    "## Cutting out sound"
   ]
  },
  {
   "cell_type": "code",
   "execution_count": 45,
   "metadata": {},
   "outputs": [],
   "source": [
    "switch_probabilities = np.linspace(0, 1, num=11)\n",
    "chunk_size = 100 # in ms\n",
    "\n",
    "song = AudioSegment.from_wav(\"./stimuli/test.wav\")\n",
    "\n",
    "for switch_probability in switch_probabilities:\n",
    "    this_song = AudioSegment.empty()\n",
    "    sound_on = bool(round(random.random()))\n",
    "    for chunk_start in range(0, len(song)-1, chunk_size):\n",
    "        this_probability = random.random()\n",
    "\n",
    "        if this_probability < switch_probability:\n",
    "            sound_on = not sound_on\n",
    "\n",
    "        this_segment = song[chunk_start:chunk_start + chunk_size]\n",
    "        if not sound_on: this_segment = AudioSegment.silent(duration=chunk_size)\n",
    "\n",
    "        this_song += this_segment\n",
    "    \n",
    "    this_song.export(f\"./stimuli/{str(switch_probability)}_chunk-{str(chunk_size)}.mp3\", format=\"mp3\", bitrate=\"192k\")"
   ]
  },
  {
   "cell_type": "markdown",
   "metadata": {},
   "source": [
    "## Adding delays XXX"
   ]
  },
  {
   "cell_type": "code",
   "execution_count": 2,
   "metadata": {},
   "outputs": [],
   "source": [
    "switch_probabilities = np.linspace(0, 1, num=11)\n",
    "chunk_size = 100 # in ms\n",
    "\n",
    "song = AudioSegment.from_wav(\"./stimuli/test.wav\")\n",
    "\n",
    "for switch_probability in switch_probabilities:\n",
    "    this_song = AudioSegment.empty()\n",
    "    sound_on = bool(round(random.random()))\n",
    "    for chunk_start in range(0, len(song)-1, chunk_size):\n",
    "        this_probability = random.random()\n",
    "\n",
    "        if this_probability < switch_probability:\n",
    "            sound_on = not sound_on\n",
    "\n",
    "        this_segment = song[chunk_start:chunk_start + chunk_size]\n",
    "        if not sound_on: this_segment = AudioSegment.silent(duration=chunk_size*2)\n",
    "\n",
    "        this_song += this_segment\n",
    "    \n",
    "    this_song.export(f\"./stimuli/{str(switch_probability)}_chunk-{str(chunk_size)}_delay.mp3\", format=\"mp3\", bitrate=\"192k\")"
   ]
  },
  {
   "cell_type": "markdown",
   "metadata": {},
   "source": [
    "# Alternating between pure tones and silence"
   ]
  },
  {
   "cell_type": "code",
   "execution_count": 5,
   "metadata": {},
   "outputs": [],
   "source": [
    "song = AudioSegment.from_wav(\"./stimuli/audiocheck.net_sin_195.998Hz_-3dBFS_0.5s.wav\")\n",
    "duration = 10_000 # in ms\n",
    "chunk_size = 500 # in ms\n",
    "num_chunks = int(duration / chunk_size)\n",
    "switch_probabilities = np.linspace(0, 1, num=11)\n",
    "\n",
    "for switch_probability in switch_probabilities:\n",
    "    this_song = AudioSegment.empty()\n",
    "    sound_on = bool(round(random.random()))\n",
    "    for chunks in range(num_chunks):\n",
    "        this_probability = random.random()\n",
    "\n",
    "        if this_probability < switch_probability:\n",
    "            sound_on = not sound_on\n",
    "\n",
    "        this_segment = song[:]\n",
    "        if not sound_on: this_segment = AudioSegment.silent(duration=chunk_size)\n",
    "\n",
    "        this_song += this_segment\n",
    "\n",
    "    this_song.export(f\"./stimuli/switch-{str(switch_probability)}_chunk-{str(chunk_size)}_G3_tone.mp3\", format=\"mp3\", bitrate=\"192k\")"
   ]
  },
  {
   "cell_type": "markdown",
   "metadata": {},
   "source": [
    "# Alternating between two different pure tones"
   ]
  },
  {
   "cell_type": "code",
   "execution_count": 6,
   "metadata": {},
   "outputs": [],
   "source": [
    "songs = [\n",
    "    AudioSegment.from_wav(\"./stimuli/audiocheck.net_sin_195.998Hz_-3dBFS_0.5s.wav\"),\n",
    "    AudioSegment.from_wav(\"./stimuli/audiocheck.net_sin_261.626Hz_-3dBFS_0.5s.wav\")\n",
    "]\n",
    "duration = 10_000 # in ms\n",
    "chunk_size = 500 # in ms\n",
    "num_chunks = int(duration / chunk_size)\n",
    "\n",
    "switch_probabilities = np.linspace(0, 1, num=11)\n",
    "for switch_probability in switch_probabilities:\n",
    "    this_song = AudioSegment.empty()\n",
    "    which_tone = round(random.random())\n",
    "    for chunks in range(num_chunks):\n",
    "        this_probability = random.random()\n",
    "\n",
    "        if this_probability < switch_probability:\n",
    "            which_tone = 1 - which_tone\n",
    "\n",
    "        this_segment = songs[which_tone]    \n",
    "        this_song += this_segment\n",
    "\n",
    "    this_song.export(f\"./stimuli/switch-{str(switch_probability)}_chunk-{str(chunk_size)}_G3_C4_alternating.mp3\", format=\"mp3\", bitrate=\"192k\")    "
   ]
  }
 ],
 "metadata": {
  "kernelspec": {
   "display_name": "Python 3",
   "language": "python",
   "name": "python3"
  },
  "language_info": {
   "codemirror_mode": {
    "name": "ipython",
    "version": 3
   },
   "file_extension": ".py",
   "mimetype": "text/x-python",
   "name": "python",
   "nbconvert_exporter": "python",
   "pygments_lexer": "ipython3",
   "version": "3.6.2"
  }
 },
 "nbformat": 4,
 "nbformat_minor": 2
}
